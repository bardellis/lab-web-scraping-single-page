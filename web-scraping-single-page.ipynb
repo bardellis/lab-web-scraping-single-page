{
 "cells": [
  {
   "cell_type": "markdown",
   "id": "6668e857",
   "metadata": {},
   "source": [
    "## Lab | Web Scraping Single Page (GNOD part 1)\n",
    "Business goal:\n",
    "Check the case_study_gnod.md file.\n",
    "\n",
    "Make sure you've understood the big picture of your project:\n",
    "\n",
    "the goal of the company (Gnod),\n",
    "their current product (Gnoosic),\n",
    "their strategy, and\n",
    "how your project fits into this context.\n",
    "Re-read the business case and the e-mail from the CTO.\n",
    "\n",
    "Instructions - Scraping popular songs\n",
    "Your product will take a song as an input from the user and will output another song (the recommendation). In most cases, the recommended song will have to be similar to the inputted song, but the CTO thinks that if the song is on the top charts at the moment, the user will also enjoy a recommendation of another song that is popular at the moment.\n",
    "\n",
    "You have to find data on the internet about currently popular songs. Popvortex maintains a weekly Top 100 of \"hot\" songs here: http://www.popvortex.com/music/charts/top-100-songs.php.\n",
    "\n",
    "It's a good place to start! Scrape the current top 100 songs and their respective artists, and put the information into a pandas dataframe."
   ]
  },
  {
   "cell_type": "code",
   "execution_count": 1,
   "id": "6326e05e",
   "metadata": {},
   "outputs": [],
   "source": [
    "from bs4 import BeautifulSoup\n",
    "import requests\n",
    "import pandas as pd"
   ]
  },
  {
   "cell_type": "code",
   "execution_count": 2,
   "id": "8cf3efc1",
   "metadata": {},
   "outputs": [],
   "source": [
    "url = \"https://www.popvortex.com/music/charts/top-100-songs.php\""
   ]
  },
  {
   "cell_type": "code",
   "execution_count": 3,
   "id": "759c1691",
   "metadata": {},
   "outputs": [
    {
     "data": {
      "text/plain": [
       "200"
      ]
     },
     "execution_count": 3,
     "metadata": {},
     "output_type": "execute_result"
    }
   ],
   "source": [
    "response = requests.get(url)\n",
    "response.status_code # 200 status code means OK!"
   ]
  },
  {
   "cell_type": "code",
   "execution_count": 4,
   "id": "f23ff6cf",
   "metadata": {},
   "outputs": [],
   "source": [
    "soup = BeautifulSoup(response.content, \"html.parser\")"
   ]
  },
  {
   "cell_type": "code",
   "execution_count": 5,
   "id": "369edf5d",
   "metadata": {},
   "outputs": [],
   "source": [
    "# soup"
   ]
  },
  {
   "cell_type": "code",
   "execution_count": 6,
   "id": "fb210c00",
   "metadata": {},
   "outputs": [
    {
     "data": {
      "text/plain": [
       "(100, 3)"
      ]
     },
     "execution_count": 6,
     "metadata": {},
     "output_type": "execute_result"
    }
   ],
   "source": [
    "chart_positions = soup.select(\".cover-art.col-xs-12.col-sm-4 > p\")\n",
    "titles = soup.select(\".chart-content.col-xs-12.col-sm-8 > p > cite\")\n",
    "artists = soup.select(\".chart-content.col-xs-12.col-sm-8 > p > em\")\n",
    "    \n",
    "chart_position_text = [chart_position.get_text() for chart_position in chart_positions]\n",
    "title_text = [title.get_text() for title in titles]\n",
    "artist_text = [artist.get_text() for artist in artists]\n",
    "    \n",
    "data = {\n",
    "        \"Ranking\": chart_position_text,\n",
    "        \"Title\": title_text,\n",
    "        \"Artist\": artist_text\n",
    "    }\n",
    "    \n",
    "topsongs_df = pd.DataFrame(data)\n",
    "topsongs_df.shape"
   ]
  },
  {
   "cell_type": "markdown",
   "id": "97402622",
   "metadata": {},
   "source": [
    "## Lab | Web Scraping Multiple Pages\n",
    "Business goal:\n",
    "Check the case_study_gnod.md file.\n",
    "\n",
    "Make sure you've understood the big picture of your project:\n",
    "\n",
    "the goal of the company (Gnod),\n",
    "their current product (Gnoosic),\n",
    "their strategy, and\n",
    "how your project fits into this context.\n",
    "Re-read the business case and the e-mail from the CTO, take a look at the flowchart and create an initial Trello board with the tasks you think you'll have to accomplish.\n",
    "\n",
    "Instructions Part 1\n",
    "Prioritize the MVP (Minimum Viable Product)\n",
    "In the previous lab, you had to scrape data about \"hot songs\". It's critical to be on track with that part, as it was part of the request from the CTO.\n",
    "\n",
    "If you couldn't finish the first lab, use this time to go back there.\n",
    "\n",
    "Expand the project\n",
    "If you're done, you can try to expand the project on your own. Here are a few suggestions:\n",
    "\n",
    "Find other lists of hot songs on the internet and scrape them too: having a bigger pool of songs will be awesome!\n",
    "Apply the same logic to other \"groups\" of songs: the best songs from a decade or from a country / culture / language / genre.\n",
    "Wikipedia maintains a large collection of lists of songs: https://en.wikipedia.org/wiki/Lists_of_songs"
   ]
  },
  {
   "cell_type": "code",
   "execution_count": 7,
   "id": "1e58b834",
   "metadata": {},
   "outputs": [],
   "source": [
    "url2 = \"https://www.billboard.com/charts/hot-100/\""
   ]
  },
  {
   "cell_type": "code",
   "execution_count": 8,
   "id": "83f8342a",
   "metadata": {},
   "outputs": [
    {
     "data": {
      "text/plain": [
       "200"
      ]
     },
     "execution_count": 8,
     "metadata": {},
     "output_type": "execute_result"
    }
   ],
   "source": [
    "response2 = requests.get(url2)\n",
    "response2.status_code"
   ]
  },
  {
   "cell_type": "code",
   "execution_count": 9,
   "id": "16a0257d",
   "metadata": {},
   "outputs": [],
   "source": [
    "soup2 = BeautifulSoup(response2.content, \"html.parser\")"
   ]
  },
  {
   "cell_type": "code",
   "execution_count": 10,
   "id": "e60fd2fd",
   "metadata": {},
   "outputs": [
    {
     "data": {
      "text/html": [
       "<div>\n",
       "<style scoped>\n",
       "    .dataframe tbody tr th:only-of-type {\n",
       "        vertical-align: middle;\n",
       "    }\n",
       "\n",
       "    .dataframe tbody tr th {\n",
       "        vertical-align: top;\n",
       "    }\n",
       "\n",
       "    .dataframe thead th {\n",
       "        text-align: right;\n",
       "    }\n",
       "</style>\n",
       "<table border=\"1\" class=\"dataframe\">\n",
       "  <thead>\n",
       "    <tr style=\"text-align: right;\">\n",
       "      <th></th>\n",
       "      <th>Title</th>\n",
       "      <th>Artist</th>\n",
       "    </tr>\n",
       "  </thead>\n",
       "  <tbody>\n",
       "    <tr>\n",
       "      <th>1</th>\n",
       "      <td>Cruel Summer</td>\n",
       "      <td>Taylor Swift</td>\n",
       "    </tr>\n",
       "    <tr>\n",
       "      <th>2</th>\n",
       "      <td>Lovin On Me</td>\n",
       "      <td>Jack Harlow</td>\n",
       "    </tr>\n",
       "    <tr>\n",
       "      <th>3</th>\n",
       "      <td>Paint The Town Red</td>\n",
       "      <td>Doja Cat</td>\n",
       "    </tr>\n",
       "    <tr>\n",
       "      <th>4</th>\n",
       "      <td>Snooze</td>\n",
       "      <td>SZA</td>\n",
       "    </tr>\n",
       "    <tr>\n",
       "      <th>5</th>\n",
       "      <td>Is It Over Now? (Taylor's Version) [From The V...</td>\n",
       "      <td>Taylor Swift</td>\n",
       "    </tr>\n",
       "    <tr>\n",
       "      <th>...</th>\n",
       "      <td>...</td>\n",
       "      <td>...</td>\n",
       "    </tr>\n",
       "    <tr>\n",
       "      <th>96</th>\n",
       "      <td>Mi Ex Tenia Razon</td>\n",
       "      <td>Karol G</td>\n",
       "    </tr>\n",
       "    <tr>\n",
       "      <th>97</th>\n",
       "      <td>Different 'Round Here</td>\n",
       "      <td>Riley Green Featuring Luke Combs</td>\n",
       "    </tr>\n",
       "    <tr>\n",
       "      <th>98</th>\n",
       "      <td>But I Got A Beer In My Hand</td>\n",
       "      <td>Luke Bryan</td>\n",
       "    </tr>\n",
       "    <tr>\n",
       "      <th>99</th>\n",
       "      <td>Better Than Ever</td>\n",
       "      <td>YoungBoy Never Broke Again &amp; Rod Wave</td>\n",
       "    </tr>\n",
       "    <tr>\n",
       "      <th>100</th>\n",
       "      <td>Soak City (Do It)</td>\n",
       "      <td>310babii</td>\n",
       "    </tr>\n",
       "  </tbody>\n",
       "</table>\n",
       "<p>100 rows × 2 columns</p>\n",
       "</div>"
      ],
      "text/plain": [
       "                                                 Title  \\\n",
       "1                                         Cruel Summer   \n",
       "2                                          Lovin On Me   \n",
       "3                                   Paint The Town Red   \n",
       "4                                               Snooze   \n",
       "5    Is It Over Now? (Taylor's Version) [From The V...   \n",
       "..                                                 ...   \n",
       "96                                   Mi Ex Tenia Razon   \n",
       "97                               Different 'Round Here   \n",
       "98                         But I Got A Beer In My Hand   \n",
       "99                                    Better Than Ever   \n",
       "100                                  Soak City (Do It)   \n",
       "\n",
       "                                    Artist  \n",
       "1                             Taylor Swift  \n",
       "2                              Jack Harlow  \n",
       "3                                 Doja Cat  \n",
       "4                                      SZA  \n",
       "5                             Taylor Swift  \n",
       "..                                     ...  \n",
       "96                                 Karol G  \n",
       "97        Riley Green Featuring Luke Combs  \n",
       "98                              Luke Bryan  \n",
       "99   YoungBoy Never Broke Again & Rod Wave  \n",
       "100                               310babii  \n",
       "\n",
       "[100 rows x 2 columns]"
      ]
     },
     "execution_count": 10,
     "metadata": {},
     "output_type": "execute_result"
    }
   ],
   "source": [
    "titles = []\n",
    "artists = []\n",
    "\n",
    "for i in range(1, 110): \n",
    "    title_selector = f\"#post-1479786 > div.pmc-paywall > div > div > div > div.chart-results-list.\\/\\/.lrv-u-padding-t-150.lrv-u-padding-t-050\\\\@mobile-max > div:nth-child({i + 1}) > ul > li.lrv-u-width-100p > ul > li.o-chart-results-list__item.\\/\\/.lrv-u-flex-grow-1.lrv-u-flex.lrv-u-flex-direction-column.lrv-u-justify-content-center.lrv-u-border-b-1.u-border-b-0\\\\@mobile-max.lrv-u-border-color-grey-light.lrv-u-padding-l-1\\\\@mobile-max > h3\"\n",
    "    artist_selector = f\"#post-1479786 > div.pmc-paywall > div > div > div > div.chart-results-list.\\/\\/.lrv-u-padding-t-150.lrv-u-padding-t-050\\\\@mobile-max > div:nth-child({i + 1}) > ul > li.lrv-u-width-100p > ul > li.o-chart-results-list__item.\\/\\/.lrv-u-flex-grow-1.lrv-u-flex.lrv-u-flex-direction-column.lrv-u-justify-content-center.lrv-u-border-b-1.u-border-b-0\\\\@mobile-max.lrv-u-border-color-grey-light.lrv-u-padding-l-1\\\\@mobile-max > span\"\n",
    "\n",
    "    title_element = soup2.select_one(title_selector)\n",
    "    artist_element = soup2.select_one(artist_selector)\n",
    "\n",
    "    if title_element:\n",
    "        title = title_element.get_text(strip=True)\n",
    "        titles.append(title)\n",
    "\n",
    "    if artist_element:\n",
    "        artist = artist_element.get_text(strip=True)\n",
    "        artists.append(artist)\n",
    "\n",
    "data1 = {'Title': titles, 'Artist': artists}\n",
    "addsongs_df = pd.DataFrame(data1, index=range(1, len(titles) + 1))\n",
    "addsongs_df"
   ]
  },
  {
   "cell_type": "code",
   "execution_count": 11,
   "id": "fa82e2c1",
   "metadata": {},
   "outputs": [
    {
     "data": {
      "text/plain": [
       "Index(['Title', 'Artist'], dtype='object')"
      ]
     },
     "execution_count": 11,
     "metadata": {},
     "output_type": "execute_result"
    }
   ],
   "source": [
    "addsongs_df.columns"
   ]
  },
  {
   "cell_type": "code",
   "execution_count": 12,
   "id": "491abb5a",
   "metadata": {},
   "outputs": [
    {
     "data": {
      "text/plain": [
       "Index(['Ranking', 'Title', 'Artist'], dtype='object')"
      ]
     },
     "execution_count": 12,
     "metadata": {},
     "output_type": "execute_result"
    }
   ],
   "source": [
    "topsongs_df.columns"
   ]
  },
  {
   "cell_type": "code",
   "execution_count": 13,
   "id": "b6cb60f0",
   "metadata": {},
   "outputs": [],
   "source": [
    "topsongs_df = topsongs_df.drop(['Ranking'], axis=1)"
   ]
  },
  {
   "cell_type": "code",
   "execution_count": 14,
   "id": "fac12a19",
   "metadata": {},
   "outputs": [
    {
     "data": {
      "text/plain": [
       "(100, 2)"
      ]
     },
     "execution_count": 14,
     "metadata": {},
     "output_type": "execute_result"
    }
   ],
   "source": [
    "topsongs_df.shape"
   ]
  },
  {
   "cell_type": "code",
   "execution_count": 15,
   "id": "f599f0d0",
   "metadata": {},
   "outputs": [
    {
     "data": {
      "text/plain": [
       "(100, 2)"
      ]
     },
     "execution_count": 15,
     "metadata": {},
     "output_type": "execute_result"
    }
   ],
   "source": [
    "addsongs_df.shape"
   ]
  },
  {
   "cell_type": "code",
   "execution_count": 16,
   "id": "b388b144",
   "metadata": {},
   "outputs": [
    {
     "data": {
      "text/html": [
       "<div>\n",
       "<style scoped>\n",
       "    .dataframe tbody tr th:only-of-type {\n",
       "        vertical-align: middle;\n",
       "    }\n",
       "\n",
       "    .dataframe tbody tr th {\n",
       "        vertical-align: top;\n",
       "    }\n",
       "\n",
       "    .dataframe thead th {\n",
       "        text-align: right;\n",
       "    }\n",
       "</style>\n",
       "<table border=\"1\" class=\"dataframe\">\n",
       "  <thead>\n",
       "    <tr style=\"text-align: right;\">\n",
       "      <th></th>\n",
       "      <th>Title</th>\n",
       "      <th>Artist</th>\n",
       "    </tr>\n",
       "  </thead>\n",
       "  <tbody>\n",
       "    <tr>\n",
       "      <th>0</th>\n",
       "      <td>3D (Justin Timberlake Remix)</td>\n",
       "      <td>Jung Kook &amp; Justin Timberlake</td>\n",
       "    </tr>\n",
       "    <tr>\n",
       "      <th>1</th>\n",
       "      <td>Lovin On Me</td>\n",
       "      <td>Jack Harlow</td>\n",
       "    </tr>\n",
       "    <tr>\n",
       "      <th>2</th>\n",
       "      <td>Lil Boo Thang</td>\n",
       "      <td>Paul Russell</td>\n",
       "    </tr>\n",
       "    <tr>\n",
       "      <th>3</th>\n",
       "      <td>DJ Play A Christmas Song</td>\n",
       "      <td>Cher</td>\n",
       "    </tr>\n",
       "    <tr>\n",
       "      <th>4</th>\n",
       "      <td>Wrap Me Up</td>\n",
       "      <td>Jimmy Fallon &amp; Meghan Trainor</td>\n",
       "    </tr>\n",
       "  </tbody>\n",
       "</table>\n",
       "</div>"
      ],
      "text/plain": [
       "                          Title                         Artist\n",
       "0  3D (Justin Timberlake Remix)  Jung Kook & Justin Timberlake\n",
       "1                   Lovin On Me                    Jack Harlow\n",
       "2                 Lil Boo Thang                   Paul Russell\n",
       "3      DJ Play A Christmas Song                           Cher\n",
       "4                    Wrap Me Up  Jimmy Fallon & Meghan Trainor"
      ]
     },
     "execution_count": 16,
     "metadata": {},
     "output_type": "execute_result"
    }
   ],
   "source": [
    "allsongs_df = pd.concat([topsongs_df ,addsongs_df], axis=0)\n",
    "allsongs_df.head()"
   ]
  },
  {
   "cell_type": "code",
   "execution_count": 17,
   "id": "d337b2e2",
   "metadata": {},
   "outputs": [
    {
     "data": {
      "text/plain": [
       "(200, 2)"
      ]
     },
     "execution_count": 17,
     "metadata": {},
     "output_type": "execute_result"
    }
   ],
   "source": [
    "allsongs_df.shape"
   ]
  },
  {
   "cell_type": "code",
   "execution_count": 18,
   "id": "e89f7fa9",
   "metadata": {},
   "outputs": [
    {
     "data": {
      "text/plain": [
       "False    178\n",
       "True      22\n",
       "dtype: int64"
      ]
     },
     "execution_count": 18,
     "metadata": {},
     "output_type": "execute_result"
    }
   ],
   "source": [
    "duplicate_counts = allsongs_df.duplicated().value_counts()\n",
    "duplicate_counts"
   ]
  },
  {
   "cell_type": "code",
   "execution_count": 19,
   "id": "d8edb452",
   "metadata": {},
   "outputs": [
    {
     "data": {
      "text/plain": [
       "(178, 2)"
      ]
     },
     "execution_count": 19,
     "metadata": {},
     "output_type": "execute_result"
    }
   ],
   "source": [
    "allsongs_df.drop_duplicates(inplace=True)\n",
    "allsongs_df.shape"
   ]
  },
  {
   "cell_type": "code",
   "execution_count": 20,
   "id": "726fdd04",
   "metadata": {},
   "outputs": [
    {
     "data": {
      "text/html": [
       "<div>\n",
       "<style scoped>\n",
       "    .dataframe tbody tr th:only-of-type {\n",
       "        vertical-align: middle;\n",
       "    }\n",
       "\n",
       "    .dataframe tbody tr th {\n",
       "        vertical-align: top;\n",
       "    }\n",
       "\n",
       "    .dataframe thead th {\n",
       "        text-align: right;\n",
       "    }\n",
       "</style>\n",
       "<table border=\"1\" class=\"dataframe\">\n",
       "  <thead>\n",
       "    <tr style=\"text-align: right;\">\n",
       "      <th></th>\n",
       "      <th>Title</th>\n",
       "      <th>Artist</th>\n",
       "    </tr>\n",
       "  </thead>\n",
       "  <tbody>\n",
       "    <tr>\n",
       "      <th>0</th>\n",
       "      <td>3D (Justin Timberlake Remix)</td>\n",
       "      <td>Jung Kook &amp; Justin Timberlake</td>\n",
       "    </tr>\n",
       "    <tr>\n",
       "      <th>1</th>\n",
       "      <td>Lovin On Me</td>\n",
       "      <td>Jack Harlow</td>\n",
       "    </tr>\n",
       "    <tr>\n",
       "      <th>2</th>\n",
       "      <td>Lil Boo Thang</td>\n",
       "      <td>Paul Russell</td>\n",
       "    </tr>\n",
       "    <tr>\n",
       "      <th>3</th>\n",
       "      <td>DJ Play A Christmas Song</td>\n",
       "      <td>Cher</td>\n",
       "    </tr>\n",
       "    <tr>\n",
       "      <th>4</th>\n",
       "      <td>Wrap Me Up</td>\n",
       "      <td>Jimmy Fallon &amp; Meghan Trainor</td>\n",
       "    </tr>\n",
       "  </tbody>\n",
       "</table>\n",
       "</div>"
      ],
      "text/plain": [
       "                          Title                         Artist\n",
       "0  3D (Justin Timberlake Remix)  Jung Kook & Justin Timberlake\n",
       "1                   Lovin On Me                    Jack Harlow\n",
       "2                 Lil Boo Thang                   Paul Russell\n",
       "3      DJ Play A Christmas Song                           Cher\n",
       "4                    Wrap Me Up  Jimmy Fallon & Meghan Trainor"
      ]
     },
     "execution_count": 20,
     "metadata": {},
     "output_type": "execute_result"
    }
   ],
   "source": [
    "allsongs_df.head()"
   ]
  },
  {
   "cell_type": "code",
   "execution_count": 21,
   "id": "01498e7b",
   "metadata": {},
   "outputs": [],
   "source": [
    "allsongs_df.to_csv('allsongs.csv', index=False)"
   ]
  },
  {
   "cell_type": "code",
   "execution_count": 22,
   "id": "d500c138",
   "metadata": {},
   "outputs": [
    {
     "data": {
      "text/plain": [
       "0      3D (Justin Timberlake Remix)\n",
       "1                       Lovin On Me\n",
       "2                     Lil Boo Thang\n",
       "3          DJ Play A Christmas Song\n",
       "4                        Wrap Me Up\n",
       "                   ...             \n",
       "96                Mi Ex Tenia Razon\n",
       "97            Different 'Round Here\n",
       "98      But I Got A Beer In My Hand\n",
       "99                 Better Than Ever\n",
       "100               Soak City (Do It)\n",
       "Name: Title, Length: 178, dtype: object"
      ]
     },
     "execution_count": 22,
     "metadata": {},
     "output_type": "execute_result"
    }
   ],
   "source": [
    "allsongs_df['Title']"
   ]
  },
  {
   "cell_type": "markdown",
   "id": "b1f39e6e",
   "metadata": {},
   "source": [
    "## GNOD Process Step 2\n",
    "The first steps you took yesterday, were to create a list of Top Songs and Artists from scraping web sites.\n",
    "You should have ended with your lists in a data frame containing at least Song Title and Artist.\n",
    "Today you are creating a recommender where the user inputs a song title and check if that song is in the list you created.   \n",
    "If it is,  give a different random song and artist from the list.  If it is not on the list, let the user know that you have no recommendation at this time."
   ]
  },
  {
   "cell_type": "code",
   "execution_count": 24,
   "id": "8daff56b",
   "metadata": {},
   "outputs": [
    {
     "name": "stdout",
     "output_type": "stream",
     "text": [
      "Enter the Song to check: Lovin On Me\n",
      "Entered song 'lovin on me'. Here's a recommendation:\n",
      "Title: Agora Hills, Artist: Doja Cat\n"
     ]
    }
   ],
   "source": [
    "song_list = allsongs_df['Title'].str.lower()\n",
    "song_to_check = input('Enter the Song to check: ').lower()\n",
    "\n",
    "if song_to_check in song_list.values:\n",
    "    filtered_list = allsongs_df[allsongs_df['Title'].str.lower() != song_to_check]\n",
    "    random_song = filtered_list.sample(1)\n",
    "    recommended_title = random_song['Title'].values[0]\n",
    "    recommended_artist = random_song['Artist'].values[0]\n",
    "    print(f\"Entered song '{song_to_check}'. Here's a recommendation:\")\n",
    "    print(f\"Title: {recommended_title}, Artist: {recommended_artist}\")\n",
    "else:\n",
    "    print(\"It's not in the hot songs list.\")"
   ]
  }
 ],
 "metadata": {
  "kernelspec": {
   "display_name": "Python 3 (ipykernel)",
   "language": "python",
   "name": "python3"
  },
  "language_info": {
   "codemirror_mode": {
    "name": "ipython",
    "version": 3
   },
   "file_extension": ".py",
   "mimetype": "text/x-python",
   "name": "python",
   "nbconvert_exporter": "python",
   "pygments_lexer": "ipython3",
   "version": "3.9.12"
  }
 },
 "nbformat": 4,
 "nbformat_minor": 5
}
